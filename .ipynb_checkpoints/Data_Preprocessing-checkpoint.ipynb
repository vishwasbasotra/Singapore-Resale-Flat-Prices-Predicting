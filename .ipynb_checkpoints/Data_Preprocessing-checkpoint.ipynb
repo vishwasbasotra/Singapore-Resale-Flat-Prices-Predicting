{
 "cells": [
  {
   "cell_type": "code",
   "execution_count": 1,
   "id": "36cfd47c",
   "metadata": {
    "id": "36cfd47c"
   },
   "outputs": [],
   "source": [
    "import glob\n",
    "import pandas as pd\n",
    "import json\n",
    "import requests"
   ]
  },
  {
   "cell_type": "markdown",
   "id": "e4FUFXgjVn_8",
   "metadata": {
    "id": "e4FUFXgjVn_8"
   },
   "source": [
    "# Importing and Loading the datasets"
   ]
  },
  {
   "cell_type": "code",
   "execution_count": 2,
   "id": "92830958",
   "metadata": {
    "colab": {
     "base_uri": "https://localhost:8080/",
     "height": 399
    },
    "id": "92830958",
    "outputId": "1f6a9d10-0609-4c76-ba8c-9e315f9d42bd"
   },
   "outputs": [
    {
     "data": {
      "text/html": [
       "<div>\n",
       "<style scoped>\n",
       "    .dataframe tbody tr th:only-of-type {\n",
       "        vertical-align: middle;\n",
       "    }\n",
       "\n",
       "    .dataframe tbody tr th {\n",
       "        vertical-align: top;\n",
       "    }\n",
       "\n",
       "    .dataframe thead th {\n",
       "        text-align: right;\n",
       "    }\n",
       "</style>\n",
       "<table border=\"1\" class=\"dataframe\">\n",
       "  <thead>\n",
       "    <tr style=\"text-align: right;\">\n",
       "      <th></th>\n",
       "      <th>month</th>\n",
       "      <th>town</th>\n",
       "      <th>flat_type</th>\n",
       "      <th>block</th>\n",
       "      <th>street_name</th>\n",
       "      <th>storey_range</th>\n",
       "      <th>floor_area_sqm</th>\n",
       "      <th>flat_model</th>\n",
       "      <th>lease_commence_date</th>\n",
       "      <th>resale_price</th>\n",
       "      <th>remaining_lease</th>\n",
       "    </tr>\n",
       "  </thead>\n",
       "  <tbody>\n",
       "    <tr>\n",
       "      <th>0</th>\n",
       "      <td>1990-01</td>\n",
       "      <td>ANG MO KIO</td>\n",
       "      <td>1 ROOM</td>\n",
       "      <td>309</td>\n",
       "      <td>ANG MO KIO AVE 1</td>\n",
       "      <td>10 TO 12</td>\n",
       "      <td>31.0</td>\n",
       "      <td>IMPROVED</td>\n",
       "      <td>1977</td>\n",
       "      <td>9000.0</td>\n",
       "      <td>NaN</td>\n",
       "    </tr>\n",
       "    <tr>\n",
       "      <th>1</th>\n",
       "      <td>1990-01</td>\n",
       "      <td>ANG MO KIO</td>\n",
       "      <td>1 ROOM</td>\n",
       "      <td>309</td>\n",
       "      <td>ANG MO KIO AVE 1</td>\n",
       "      <td>04 TO 06</td>\n",
       "      <td>31.0</td>\n",
       "      <td>IMPROVED</td>\n",
       "      <td>1977</td>\n",
       "      <td>6000.0</td>\n",
       "      <td>NaN</td>\n",
       "    </tr>\n",
       "    <tr>\n",
       "      <th>2</th>\n",
       "      <td>1990-01</td>\n",
       "      <td>ANG MO KIO</td>\n",
       "      <td>1 ROOM</td>\n",
       "      <td>309</td>\n",
       "      <td>ANG MO KIO AVE 1</td>\n",
       "      <td>10 TO 12</td>\n",
       "      <td>31.0</td>\n",
       "      <td>IMPROVED</td>\n",
       "      <td>1977</td>\n",
       "      <td>8000.0</td>\n",
       "      <td>NaN</td>\n",
       "    </tr>\n",
       "    <tr>\n",
       "      <th>3</th>\n",
       "      <td>1990-01</td>\n",
       "      <td>ANG MO KIO</td>\n",
       "      <td>1 ROOM</td>\n",
       "      <td>309</td>\n",
       "      <td>ANG MO KIO AVE 1</td>\n",
       "      <td>07 TO 09</td>\n",
       "      <td>31.0</td>\n",
       "      <td>IMPROVED</td>\n",
       "      <td>1977</td>\n",
       "      <td>6000.0</td>\n",
       "      <td>NaN</td>\n",
       "    </tr>\n",
       "    <tr>\n",
       "      <th>4</th>\n",
       "      <td>1990-01</td>\n",
       "      <td>ANG MO KIO</td>\n",
       "      <td>3 ROOM</td>\n",
       "      <td>216</td>\n",
       "      <td>ANG MO KIO AVE 1</td>\n",
       "      <td>04 TO 06</td>\n",
       "      <td>73.0</td>\n",
       "      <td>NEW GENERATION</td>\n",
       "      <td>1976</td>\n",
       "      <td>47200.0</td>\n",
       "      <td>NaN</td>\n",
       "    </tr>\n",
       "  </tbody>\n",
       "</table>\n",
       "</div>"
      ],
      "text/plain": [
       "     month        town flat_type block       street_name storey_range  \\\n",
       "0  1990-01  ANG MO KIO    1 ROOM   309  ANG MO KIO AVE 1     10 TO 12   \n",
       "1  1990-01  ANG MO KIO    1 ROOM   309  ANG MO KIO AVE 1     04 TO 06   \n",
       "2  1990-01  ANG MO KIO    1 ROOM   309  ANG MO KIO AVE 1     10 TO 12   \n",
       "3  1990-01  ANG MO KIO    1 ROOM   309  ANG MO KIO AVE 1     07 TO 09   \n",
       "4  1990-01  ANG MO KIO    3 ROOM   216  ANG MO KIO AVE 1     04 TO 06   \n",
       "\n",
       "   floor_area_sqm      flat_model  lease_commence_date  resale_price  \\\n",
       "0            31.0        IMPROVED                 1977        9000.0   \n",
       "1            31.0        IMPROVED                 1977        6000.0   \n",
       "2            31.0        IMPROVED                 1977        8000.0   \n",
       "3            31.0        IMPROVED                 1977        6000.0   \n",
       "4            73.0  NEW GENERATION                 1976       47200.0   \n",
       "\n",
       "  remaining_lease  \n",
       "0             NaN  \n",
       "1             NaN  \n",
       "2             NaN  \n",
       "3             NaN  \n",
       "4             NaN  "
      ]
     },
     "execution_count": 2,
     "metadata": {},
     "output_type": "execute_result"
    }
   ],
   "source": [
    "df = pd.concat([pd.read_csv(f) for f in glob.glob(\"./data/*.csv\")], ignore_index=True)\n",
    "df.head()"
   ]
  },
  {
   "cell_type": "code",
   "execution_count": 3,
   "id": "qFQEFowkVwVy",
   "metadata": {
    "colab": {
     "base_uri": "https://localhost:8080/"
    },
    "id": "qFQEFowkVwVy",
    "outputId": "4193a0e0-0fd6-41b3-efcd-9f57aa3216ea"
   },
   "outputs": [
    {
     "data": {
      "text/plain": [
       "(927465, 11)"
      ]
     },
     "execution_count": 3,
     "metadata": {},
     "output_type": "execute_result"
    }
   ],
   "source": [
    "df.shape"
   ]
  },
  {
   "cell_type": "markdown",
   "id": "BOilE84SV2MP",
   "metadata": {
    "id": "BOilE84SV2MP"
   },
   "source": [
    "# Handling Null Values"
   ]
  },
  {
   "cell_type": "code",
   "execution_count": 4,
   "id": "33e48157",
   "metadata": {
    "colab": {
     "base_uri": "https://localhost:8080/"
    },
    "id": "33e48157",
    "outputId": "3d3e36a7-b001-48e7-822a-468412ce7829"
   },
   "outputs": [
    {
     "data": {
      "text/plain": [
       "month                       0\n",
       "town                        0\n",
       "flat_type                   0\n",
       "block                       0\n",
       "street_name                 0\n",
       "storey_range                0\n",
       "floor_area_sqm              0\n",
       "flat_model                  0\n",
       "lease_commence_date         0\n",
       "resale_price                0\n",
       "remaining_lease        709050\n",
       "dtype: int64"
      ]
     },
     "execution_count": 4,
     "metadata": {},
     "output_type": "execute_result"
    }
   ],
   "source": [
    "df.isnull().sum()"
   ]
  },
  {
   "cell_type": "code",
   "execution_count": 5,
   "id": "0d95640d",
   "metadata": {
    "colab": {
     "base_uri": "https://localhost:8080/"
    },
    "id": "0d95640d",
    "outputId": "cc47b41f-2fc4-4e41-d815-8b145aad687b"
   },
   "outputs": [
    {
     "data": {
      "text/plain": [
       "month                  0\n",
       "town                   0\n",
       "flat_type              0\n",
       "block                  0\n",
       "street_name            0\n",
       "storey_range           0\n",
       "floor_area_sqm         0\n",
       "flat_model             0\n",
       "lease_commence_date    0\n",
       "resale_price           0\n",
       "remaining_lease        0\n",
       "dtype: int64"
      ]
     },
     "execution_count": 5,
     "metadata": {},
     "output_type": "execute_result"
    }
   ],
   "source": [
    "# droping remaining_lease missing values\n",
    "df = df.dropna()\n",
    "df.isnull().sum()"
   ]
  },
  {
   "cell_type": "markdown",
   "id": "SUl40LmYV8ld",
   "metadata": {
    "id": "SUl40LmYV8ld"
   },
   "source": [
    "# MRT (Mass Rapid Transit System) Railway Transportation\n",
    "*   Getting MRT coordinates for each city\n",
    "*   so that we can calculate the distance afterwards using MRT coordinates\n",
    "\n"
   ]
  },
  {
   "cell_type": "code",
   "execution_count": 6,
   "id": "c0e9dc25",
   "metadata": {
    "colab": {
     "base_uri": "https://localhost:8080/"
    },
    "id": "c0e9dc25",
    "outputId": "bd1493ae-7eea-4e89-a99e-7889f04f50ef"
   },
   "outputs": [
    {
     "data": {
      "text/plain": [
       "array(['ANG MO KIO', 'BEDOK', 'BISHAN', 'BUKIT BATOK', 'BUKIT MERAH',\n",
       "       'BUKIT PANJANG', 'BUKIT TIMAH', 'CENTRAL AREA', 'CHOA CHU KANG',\n",
       "       'CLEMENTI', 'GEYLANG', 'HOUGANG', 'JURONG EAST', 'JURONG WEST',\n",
       "       'KALLANG/WHAMPOA', 'MARINE PARADE', 'PASIR RIS', 'PUNGGOL',\n",
       "       'QUEENSTOWN', 'SEMBAWANG', 'SENGKANG', 'SERANGOON', 'TAMPINES',\n",
       "       'TOA PAYOH', 'WOODLANDS', 'YISHUN'], dtype=object)"
      ]
     },
     "execution_count": 6,
     "metadata": {},
     "output_type": "execute_result"
    }
   ],
   "source": [
    "df['town'].unique()"
   ]
  },
  {
   "cell_type": "code",
   "execution_count": 7,
   "id": "47fd976d",
   "metadata": {
    "id": "47fd976d"
   },
   "outputs": [],
   "source": [
    "list_of_mrt = [\n",
    "    'Jurong East MRT Station',\n",
    "    'Bukit Batok MRT Station',\n",
    "    'Bukit Gombak MRT Station',\n",
    "    'Choa Chu Kang MRT Station',\n",
    "    'Yew Tee MRT Station',\n",
    "    'Kranji MRT Station',\n",
    "    'Marsiling MRT Station',\n",
    "    'Woodlands MRT Station',\n",
    "    'Admiralty MRT Station',\n",
    "    'Sembawang MRT Station',\n",
    "    'Canberra MRT Station',\n",
    "    'Yishun MRT Station',\n",
    "    'Khatib MRT Station',\n",
    "    'Yio Chu Kang MRT Station',\n",
    "    'Ang Mo Kio MRT Station',\n",
    "    'Bishan MRT Station',\n",
    "    'Braddell MRT Station',\n",
    "    'Toa Payoh MRT Station',\n",
    "    'Novena MRT Station',\n",
    "    'Newton MRT Station',\n",
    "    'Orchard MRT Station',\n",
    "    'Somerset MRT Station',\n",
    "    'Dhoby Ghaut MRT Station',\n",
    "    'City Hall MRT Station',\n",
    "    'Raffles Place MRT Station',\n",
    "    'Marina Bay MRT Station',\n",
    "    'Marina South Pier MRT Station',\n",
    "    'Pasir Ris MRT Station',\n",
    "    'Tampines MRT Station',\n",
    "    'Simei MRT Station',\n",
    "    'Tanah Merah MRT Station',\n",
    "    'Bedok MRT Station',\n",
    "    'Kembangan MRT Station',\n",
    "    'Eunos MRT Station',\n",
    "    'Paya Lebar MRT Station',\n",
    "    'Aljunied MRT Station',\n",
    "    'Kallang MRT Station',\n",
    "    'Lavender MRT Station',\n",
    "    'Bugis MRT Station',\n",
    "    'Tanjong Pagar MRT Station',\n",
    "    'Outram Park MRT Station',\n",
    "    'Tiong Bahru MRT Station',\n",
    "    'Redhill MRT Station',\n",
    "    'Queenstown MRT Station',\n",
    "    'Commonwealth MRT Station',\n",
    "    'Buona Vista MRT Station',\n",
    "    'Dover MRT Station',\n",
    "    'Clementi MRT Station',\n",
    "    'Chinese Garden MRT Station',\n",
    "    'Lakeside MRT Station',\n",
    "    'Boon Lay MRT Station',\n",
    "    'Pioneer MRT Station',\n",
    "    'Joo Koon MRT Station',\n",
    "    'Gul Circle MRT Station',\n",
    "    'Tuas Crescent MRT Station',\n",
    "    'Tuas West Road MRT Station',\n",
    "    'Tuas Link MRT Station',\n",
    "    'Expo MRT Station',\n",
    "    'Changi Airport MRT Station',\n",
    "    'HarbourFront MRT Station',\n",
    "    'Chinatown MRT Station',\n",
    "    'Clarke Quay MRT Station',\n",
    "    'Little India MRT Station',\n",
    "    'Farrer Park MRT Station',\n",
    "    'Boon Keng MRT Station',\n",
    "    'Potong Pasir MRT Station',\n",
    "    'Woodleigh MRT Station',\n",
    "    'Serangoon MRT Station',\n",
    "    'Kovan MRT Station',\n",
    "    'Hougang MRT Station',\n",
    "    'Buangkok MRT Station',\n",
    "    'Sengkang MRT Station',\n",
    "    'Punggol MRT Station',\n",
    "    'Bras Basah MRT Station',\n",
    "    'Esplanade MRT Station',\n",
    "    'Promenade MRT Station',\n",
    "    'Nicoll Highway MRT Station',\n",
    "    'Stadium MRT Station',\n",
    "    'Mountbatten MRT Station',\n",
    "    'Dakota MRT Station',\n",
    "    'MacPherson MRT Station',\n",
    "    'Tai Seng MRT Station',\n",
    "    'Bartley MRT Station',\n",
    "    'Lorong Chuan MRT Station',\n",
    "    'Marymount MRT Station',\n",
    "    'Caldecott MRT Station',\n",
    "    'Botanic Gardens MRT Station',\n",
    "    'Farrer Road MRT Station',\n",
    "    'Holland Village MRT Station',\n",
    "    'one-north MRT Station',\n",
    "    'Kent Ridge MRT Station',\n",
    "    'Haw Par Villa MRT Station',\n",
    "    'Pasir Panjang MRT Station',\n",
    "    'Labrador Park MRT Station',\n",
    "    'Telok Blangah MRT Station',\n",
    "    'Bayfront MRT Station',\n",
    "    'Bukit Panjang MRT Station',\n",
    "    'Cashew MRT Station',\n",
    "    'Hillview MRT Station',\n",
    "    'Beauty World MRT Station',\n",
    "    'King Albert Park MRT Station',\n",
    "    'Sixth Avenue MRT Station',\n",
    "    'Tan Kah Kee MRT Station',\n",
    "    'Stevens MRT Station',\n",
    "    'Rochor MRT Station',\n",
    "    'Downtown MRT Station',\n",
    "    'Telok Ayer MRT Station',\n",
    "    'Fort Canning MRT Station',\n",
    "    'Bencoolen MRT Station',\n",
    "    'Jalan Besar MRT Station',\n",
    "    'Bendemeer MRT Station',\n",
    "    'Geylang Bahru MRT Station',\n",
    "    'Mattar MRT Station',\n",
    "    'Ubi MRT Station',\n",
    "    'Kaki Bukit MRT Station',\n",
    "    'Bedok North MRT Station',\n",
    "    'Bedok Reservoir MRT Station',\n",
    "    'Tampines West MRT Station',\n",
    "    'Tampines East MRT Station',\n",
    "    'Upper Changi MRT Station',\n",
    "    'Woodlands North MRT Station',\n",
    "    'Woodlands South MRT Station'\n",
    "]"
   ]
  },
  {
   "cell_type": "code",
   "execution_count": 8,
   "id": "dd481467",
   "metadata": {
    "colab": {
     "base_uri": "https://localhost:8080/"
    },
    "id": "dd481467",
    "outputId": "64b8efff-3c58-4c00-fd69-daa24be5268f"
   },
   "outputs": [
    {
     "name": "stdout",
     "output_type": "stream",
     "text": [
      "Jurong East MRT Station,Lat: 1.33329506563598 Long: 103.742153884191\n",
      "Bukit Batok MRT Station,Lat: 1.34903331201636 Long: 103.749566478309\n",
      "Bukit Gombak MRT Station,Lat: 1.35861159094192 Long: 103.751790910733\n",
      "Choa Chu Kang MRT Station,Lat: 1.38536316540225 Long: 103.744370779756\n",
      "Yew Tee MRT Station,Lat: 1.39729771118639 Long: 103.74735767326\n",
      "Kranji MRT Station,Lat: 1.4250690629411 Long: 103.762099449562\n",
      "Marsiling MRT Station,Lat: 1.43262603485889 Long: 103.774051197031\n",
      "Woodlands MRT Station,Lat: 1.43681962961519 Long: 103.786066799253\n",
      "Admiralty MRT Station,Lat: 1.44058856161847 Long: 103.800990519771\n",
      "Sembawang MRT Station,Lat: 1.44902668521092 Long: 103.820139486468\n",
      "Canberra MRT Station,Lat: 1.44307664075699 Long: 103.829702590959\n",
      "Yishun MRT Station,Lat: 1.42952522867762 Long: 103.834995141847\n",
      "Khatib MRT Station,Lat: 1.41758906054002 Long: 103.833061043125\n",
      "Yio Chu Kang MRT Station,Lat: 1.38149882492597 Long: 103.845170704861\n",
      "Ang Mo Kio MRT Station,Lat: 1.36993284962264 Long: 103.849558091776\n",
      "Bishan MRT Station,Lat: 1.35101889777844 Long: 103.850057208608\n",
      "Braddell MRT Station,Lat: 1.34010520696434 Long: 103.846755921048\n",
      "Toa Payoh MRT Station,Lat: 1.3326840912586 Long: 103.847608851178\n",
      "Novena MRT Station,Lat: 1.32021100706836 Long: 103.843656761867\n",
      "Newton MRT Station,Lat: 1.31260208570591 Long: 103.838149921649\n",
      "Orchard MRT Station,Lat: 1.30242224836722 Long: 103.823868523249\n",
      "Somerset MRT Station,Lat: 1.30018113242454 Long: 103.839311084296\n",
      "Dhoby Ghaut MRT Station,Lat: 1.29868872290409 Long: 103.846179896647\n",
      "City Hall MRT Station,Lat: 1.29298990700923 Long: 103.852542630339\n",
      "Raffles Place MRT Station,Lat: 1.28393326207164 Long: 103.851463066756\n",
      "Marina Bay MRT Station,Lat: 1.27642735476716 Long: 103.854597776754\n",
      "Marina South Pier MRT Station,Lat: 1.27102703612006 Long: 103.862447515736\n",
      "Pasir Ris MRT Station,Lat: 1.37300805046319 Long: 103.949265083922\n",
      "Tampines MRT Station,Lat: 1.35619148271544 Long: 103.9546344625\n",
      "Simei MRT Station,Lat: 1.34317949620659 Long: 103.953309510101\n",
      "Tanah Merah MRT Station,Lat: 1.32731098211445 Long: 103.946451703007\n",
      "Bedok MRT Station,Lat: 1.32397996868158 Long: 103.929984495066\n",
      "Kembangan MRT Station,Lat: 1.32104702761608 Long: 103.91292554527\n",
      "Eunos MRT Station,Lat: 1.31976065808207 Long: 103.903047958324\n",
      "Paya Lebar MRT Station,Lat: 1.31810656871073 Long: 103.893158734867\n",
      "Aljunied MRT Station,Lat: 1.3164326118157 Long: 103.882906044385\n",
      "Kallang MRT Station,Lat: 1.31148890998818 Long: 103.871386541754\n",
      "Lavender MRT Station,Lat: 1.30750657093807 Long: 103.86293845244\n",
      "Bugis MRT Station,Lat: 1.30026468984101 Long: 103.855614760658\n",
      "Tanjong Pagar MRT Station,Lat: 1.27660857408421 Long: 103.846006679223\n",
      "Outram Park MRT Station,Lat: 1.27973970679335 Long: 103.839513521005\n",
      "Tiong Bahru MRT Station,Lat: 1.28610253588403 Long: 103.827445112691\n",
      "Redhill MRT Station,Lat: 1.28934817825579 Long: 103.817043991803\n",
      "Queenstown MRT Station,Lat: 1.29419362236417 Long: 103.806100814457\n",
      "Commonwealth MRT Station,Lat: 1.30250199924325 Long: 103.798228523336\n",
      "Buona Vista MRT Station,Lat: 1.30627534823257 Long: 103.790363200126\n",
      "Dover MRT Station,Lat: 1.31139153717332 Long: 103.778656381761\n",
      "Clementi MRT Station,Lat: 1.31511625277378 Long: 103.765191452888\n",
      "Chinese Garden MRT Station,Lat: 1.34235282081401 Long: 103.732596738363\n",
      "Lakeside MRT Station,Lat: 1.34410477510373 Long: 103.720301861904\n",
      "Boon Lay MRT Station,Lat: 1.33860405469845 Long: 103.706064622772\n",
      "Pioneer MRT Station,Lat: 1.33756383090029 Long: 103.697631494536\n",
      "Joo Koon MRT Station,Lat: 1.32769436492908 Long: 103.678085068438\n",
      "Gul Circle MRT Station,Lat: 1.31947090075208 Long: 103.660530461345\n",
      "Tuas Crescent MRT Station,Lat: 1.32102695598684 Long: 103.649078235627\n",
      "Tuas West Road MRT Station,Lat: 1.32998504653102 Long: 103.639616648771\n",
      "Tuas Link MRT Station,Lat: 1.34088242451105 Long: 103.636991425128\n",
      "Expo MRT Station,Lat: 1.33454977824817 Long: 103.961548211018\n",
      "Changi Airport MRT Station,Lat: 1.35747897447692 Long: 103.98788356959\n",
      "HarbourFront MRT Station,Lat: 1.26531139858465 Long: 103.820557316696\n",
      "Chinatown MRT Station,Lat: 1.28422391919085 Long: 103.845143798953\n",
      "Clarke Quay MRT Station,Lat: 1.28745211415803 Long: 103.846119192727\n",
      "Little India MRT Station,Lat: 1.30724381608438 Long: 103.849841614124\n",
      "Farrer Park MRT Station,Lat: 1.31314029963164 Long: 103.854754721344\n",
      "Boon Keng MRT Station,Lat: 1.31993957653291 Long: 103.862052698446\n",
      "Potong Pasir MRT Station,Lat: 1.3318797140041 Long: 103.869057877586\n",
      "Woodleigh MRT Station,Lat: 1.33982824592182 Long: 103.87096088798\n",
      "Serangoon MRT Station,Lat: 1.35063361526525 Long: 103.872771660431\n",
      "Kovan MRT Station,Lat: 1.35990191952976 Long: 103.884494725197\n",
      "Hougang MRT Station,Lat: 1.37033472429161 Long: 103.892261757937\n",
      "Buangkok MRT Station,Lat: 1.38369417199994 Long: 103.893049981318\n",
      "Sengkang MRT Station,Lat: 1.39174613283898 Long: 103.895508171163\n",
      "Punggol MRT Station,Lat: 1.40512956754102 Long: 103.902369773585\n",
      "Bras Basah MRT Station,Lat: 1.29686168649656 Long: 103.850667371637\n",
      "Esplanade MRT Station,Lat: 1.29133990707454 Long: 103.854609475029\n",
      "Promenade MRT Station,Lat: 1.29307389602149 Long: 103.861067235865\n",
      "Nicoll Highway MRT Station,Lat: 1.29956843029404 Long: 103.863977721184\n",
      "Stadium MRT Station,Lat: 1.3028124684707 Long: 103.875337711089\n",
      "Mountbatten MRT Station,Lat: 1.30615406128913 Long: 103.883045148696\n",
      "Dakota MRT Station,Lat: 1.30843144331463 Long: 103.889268208422\n",
      "MacPherson MRT Station,Lat: 1.32583875798262 Long: 103.890312834364\n",
      "Tai Seng MRT Station,Lat: 1.33533999302463 Long: 103.888265446029\n",
      "Bartley MRT Station,Lat: 1.3424454382925 Long: 103.880197087117\n",
      "Lorong Chuan MRT Station,Lat: 1.35153128621585 Long: 103.864812169514\n",
      "Marymount MRT Station,Lat: 1.348707263451 Long: 103.839423132332\n",
      "Caldecott MRT Station,Lat: 1.33734722320212 Long: 103.839544077561\n",
      "Botanic Gardens MRT Station,Lat: 1.32238699517166 Long: 103.815385463093\n",
      "Farrer Road MRT Station,Lat: 1.31743915158967 Long: 103.807379214161\n",
      "Holland Village MRT Station,Lat: 1.31226422601049 Long: 103.796470444998\n",
      "one-north MRT Station,Lat: 1.29968953488969 Long: 103.787412789536\n",
      "Kent Ridge MRT Station,Lat: 1.29353349887123 Long: 103.784572738173\n",
      "Haw Par Villa MRT Station,Lat: 1.28195688684898 Long: 103.781988990137\n",
      "Pasir Panjang MRT Station,Lat: 1.27621352233766 Long: 103.791350313288\n",
      "Labrador Park MRT Station,Lat: 1.27236838626952 Long: 103.803416232089\n",
      "Telok Blangah MRT Station,Lat: 1.27070647772509 Long: 103.809761611219\n",
      "Bayfront MRT Station,Lat: 1.28187378879209 Long: 103.859079764874\n",
      "Bukit Panjang MRT Station,Lat: 1.37956121236613 Long: 103.761188866252\n",
      "Cashew MRT Station,Lat: 1.36984601365741 Long: 103.764315051619\n",
      "Hillview MRT Station,Lat: 1.36288845715168 Long: 103.767780907707\n",
      "Beauty World MRT Station,Lat: 1.34090149001429 Long: 103.775746717778\n",
      "King Albert Park MRT Station,Lat: 1.335893496278 Long: 103.783235863233\n",
      "Sixth Avenue MRT Station,Lat: 1.33085764536226 Long: 103.796906838288\n",
      "Tan Kah Kee MRT Station,Lat: 1.32639224146351 Long: 103.806548201692\n",
      "Stevens MRT Station,Lat: 1.32006555750626 Long: 103.826024401924\n",
      "Rochor MRT Station,Lat: 1.30385218555028 Long: 103.852769429428\n",
      "Downtown MRT Station,Lat: 1.27944638178916 Long: 103.852840829581\n",
      "Telok Ayer MRT Station,Lat: 1.28206894769394 Long: 103.848648781083\n",
      "Fort Canning MRT Station,Lat: 1.29248194822996 Long: 103.844331362465\n",
      "Bencoolen MRT Station,Lat: 1.29891843369422 Long: 103.850353762717\n",
      "Jalan Besar MRT Station,Lat: 1.3051713878069 Long: 103.855295713435\n",
      "Bendemeer MRT Station,Lat: 1.31367252847691 Long: 103.862977620945\n",
      "Geylang Bahru MRT Station,Lat: 1.32130110228321 Long: 103.871622627142\n",
      "Mattar MRT Station,Lat: 1.32687671501334 Long: 103.883247509542\n",
      "Ubi MRT Station,Lat: 1.3298832504798 Long: 103.899082581327\n",
      "Kaki Bukit MRT Station,Lat: 1.33496735995428 Long: 103.908459338046\n",
      "Bedok North MRT Station,Lat: 1.33474211664091 Long: 103.91797832995\n",
      "Bedok Reservoir MRT Station,Lat: 1.33660782955099 Long: 103.932234623286\n",
      "Tampines West MRT Station,Lat: 1.3456336579777 Long: 103.938492495285\n",
      "Tampines East MRT Station,Lat: 1.35619148271544 Long: 103.9546344625\n",
      "Upper Changi MRT Station,Lat: 1.34173977444995 Long: 103.961472788634\n",
      "Woodlands North MRT Station,Lat: 1.44829245259621 Long: 103.785692682441\n",
      "Woodlands South MRT Station,Lat: 1.42739605281442 Long: 103.79326432221\n"
     ]
    }
   ],
   "source": [
    "mrt_lat = []\n",
    "mrt_long = []\n",
    "\n",
    "for i in range(0, len(list_of_mrt)):\n",
    "    query_address = list_of_mrt[i]\n",
    "    query_string = 'https://www.onemap.gov.sg/api/common/elastic/search?searchVal='+str(query_address)+'&returnGeom=Y&getAddrDetails=Y'\n",
    "    resp = requests.get(query_string)\n",
    "\n",
    "    data_mrt=json.loads(resp.content)\n",
    "\n",
    "    if data_mrt['found'] != 0:\n",
    "        mrt_lat.append(data_mrt[\"results\"][0][\"LATITUDE\"])\n",
    "        mrt_long.append(data_mrt[\"results\"][0][\"LONGITUDE\"])\n",
    "\n",
    "        print (str(query_address)+\",Lat: \"+data_mrt['results'][0]['LATITUDE'] +\" Long: \"+data_mrt['results'][0]['LONGITUDE'])\n",
    "\n",
    "    else:\n",
    "        mrt_lat.append('NotFound')\n",
    "        mrt_lat.append('NotFound')\n",
    "        print (\"No Results\")"
   ]
  },
  {
   "cell_type": "code",
   "execution_count": 9,
   "id": "68097dbf",
   "metadata": {
    "id": "68097dbf"
   },
   "outputs": [],
   "source": [
    "mrt_location = pd.DataFrame({\n",
    "    'MRT': list_of_mrt,\n",
    "    'latitude': mrt_lat,\n",
    "    'longitude': mrt_long\n",
    "})"
   ]
  },
  {
   "cell_type": "markdown",
   "id": "UN_G_srUXVwh",
   "metadata": {
    "id": "UN_G_srUXVwh"
   },
   "source": [
    "# Getting coordinates of each HDB(Housing and Developing Board) Resale flat\n",
    "in order to conduct the distance from MRT stations as well as\n",
    "\n",
    "*   So, that we can take out the distance of flats from MRT stations (Mass Rapid Transit System).\n",
    "*   And, also from CBD (Central Business District).\n"
   ]
  },
  {
   "cell_type": "code",
   "execution_count": 10,
   "id": "87ae6950",
   "metadata": {
    "colab": {
     "base_uri": "https://localhost:8080/",
     "height": 877
    },
    "id": "87ae6950",
    "outputId": "48b1ad2b-092e-46d6-f23a-7cd0d801a08e"
   },
   "outputs": [
    {
     "data": {
      "text/html": [
       "<div>\n",
       "<style scoped>\n",
       "    .dataframe tbody tr th:only-of-type {\n",
       "        vertical-align: middle;\n",
       "    }\n",
       "\n",
       "    .dataframe tbody tr th {\n",
       "        vertical-align: top;\n",
       "    }\n",
       "\n",
       "    .dataframe thead th {\n",
       "        text-align: right;\n",
       "    }\n",
       "</style>\n",
       "<table border=\"1\" class=\"dataframe\">\n",
       "  <thead>\n",
       "    <tr style=\"text-align: right;\">\n",
       "      <th></th>\n",
       "      <th>month</th>\n",
       "      <th>town</th>\n",
       "      <th>flat_type</th>\n",
       "      <th>block</th>\n",
       "      <th>street_name</th>\n",
       "      <th>storey_range</th>\n",
       "      <th>floor_area_sqm</th>\n",
       "      <th>flat_model</th>\n",
       "      <th>lease_commence_date</th>\n",
       "      <th>resale_price</th>\n",
       "      <th>remaining_lease</th>\n",
       "      <th>address</th>\n",
       "    </tr>\n",
       "  </thead>\n",
       "  <tbody>\n",
       "    <tr>\n",
       "      <th>656847</th>\n",
       "      <td>2015-01</td>\n",
       "      <td>ANG MO KIO</td>\n",
       "      <td>3 ROOM</td>\n",
       "      <td>174</td>\n",
       "      <td>ANG MO KIO AVE 4</td>\n",
       "      <td>07 TO 09</td>\n",
       "      <td>60.0</td>\n",
       "      <td>Improved</td>\n",
       "      <td>1986</td>\n",
       "      <td>255000.0</td>\n",
       "      <td>70</td>\n",
       "      <td>174 ANG MO KIO AVE 4</td>\n",
       "    </tr>\n",
       "    <tr>\n",
       "      <th>656848</th>\n",
       "      <td>2015-01</td>\n",
       "      <td>ANG MO KIO</td>\n",
       "      <td>3 ROOM</td>\n",
       "      <td>541</td>\n",
       "      <td>ANG MO KIO AVE 10</td>\n",
       "      <td>01 TO 03</td>\n",
       "      <td>68.0</td>\n",
       "      <td>New Generation</td>\n",
       "      <td>1981</td>\n",
       "      <td>275000.0</td>\n",
       "      <td>65</td>\n",
       "      <td>541 ANG MO KIO AVE 10</td>\n",
       "    </tr>\n",
       "    <tr>\n",
       "      <th>656849</th>\n",
       "      <td>2015-01</td>\n",
       "      <td>ANG MO KIO</td>\n",
       "      <td>3 ROOM</td>\n",
       "      <td>163</td>\n",
       "      <td>ANG MO KIO AVE 4</td>\n",
       "      <td>01 TO 03</td>\n",
       "      <td>69.0</td>\n",
       "      <td>New Generation</td>\n",
       "      <td>1980</td>\n",
       "      <td>285000.0</td>\n",
       "      <td>64</td>\n",
       "      <td>163 ANG MO KIO AVE 4</td>\n",
       "    </tr>\n",
       "    <tr>\n",
       "      <th>656850</th>\n",
       "      <td>2015-01</td>\n",
       "      <td>ANG MO KIO</td>\n",
       "      <td>3 ROOM</td>\n",
       "      <td>446</td>\n",
       "      <td>ANG MO KIO AVE 10</td>\n",
       "      <td>01 TO 03</td>\n",
       "      <td>68.0</td>\n",
       "      <td>New Generation</td>\n",
       "      <td>1979</td>\n",
       "      <td>290000.0</td>\n",
       "      <td>63</td>\n",
       "      <td>446 ANG MO KIO AVE 10</td>\n",
       "    </tr>\n",
       "    <tr>\n",
       "      <th>656851</th>\n",
       "      <td>2015-01</td>\n",
       "      <td>ANG MO KIO</td>\n",
       "      <td>3 ROOM</td>\n",
       "      <td>557</td>\n",
       "      <td>ANG MO KIO AVE 10</td>\n",
       "      <td>07 TO 09</td>\n",
       "      <td>68.0</td>\n",
       "      <td>New Generation</td>\n",
       "      <td>1980</td>\n",
       "      <td>290000.0</td>\n",
       "      <td>64</td>\n",
       "      <td>557 ANG MO KIO AVE 10</td>\n",
       "    </tr>\n",
       "    <tr>\n",
       "      <th>...</th>\n",
       "      <td>...</td>\n",
       "      <td>...</td>\n",
       "      <td>...</td>\n",
       "      <td>...</td>\n",
       "      <td>...</td>\n",
       "      <td>...</td>\n",
       "      <td>...</td>\n",
       "      <td>...</td>\n",
       "      <td>...</td>\n",
       "      <td>...</td>\n",
       "      <td>...</td>\n",
       "      <td>...</td>\n",
       "    </tr>\n",
       "    <tr>\n",
       "      <th>875257</th>\n",
       "      <td>2024-06</td>\n",
       "      <td>YISHUN</td>\n",
       "      <td>5 ROOM</td>\n",
       "      <td>502B</td>\n",
       "      <td>YISHUN ST 51</td>\n",
       "      <td>10 TO 12</td>\n",
       "      <td>112.0</td>\n",
       "      <td>Improved</td>\n",
       "      <td>2018</td>\n",
       "      <td>738000.0</td>\n",
       "      <td>92 years 08 months</td>\n",
       "      <td>502B YISHUN ST 51</td>\n",
       "    </tr>\n",
       "    <tr>\n",
       "      <th>875258</th>\n",
       "      <td>2024-06</td>\n",
       "      <td>YISHUN</td>\n",
       "      <td>5 ROOM</td>\n",
       "      <td>865</td>\n",
       "      <td>YISHUN ST 81</td>\n",
       "      <td>07 TO 09</td>\n",
       "      <td>122.0</td>\n",
       "      <td>Improved</td>\n",
       "      <td>1988</td>\n",
       "      <td>680000.0</td>\n",
       "      <td>62 years 10 months</td>\n",
       "      <td>865 YISHUN ST 81</td>\n",
       "    </tr>\n",
       "    <tr>\n",
       "      <th>875259</th>\n",
       "      <td>2024-06</td>\n",
       "      <td>YISHUN</td>\n",
       "      <td>EXECUTIVE</td>\n",
       "      <td>723</td>\n",
       "      <td>YISHUN ST 71</td>\n",
       "      <td>10 TO 12</td>\n",
       "      <td>146.0</td>\n",
       "      <td>Maisonette</td>\n",
       "      <td>1986</td>\n",
       "      <td>790000.0</td>\n",
       "      <td>61 years</td>\n",
       "      <td>723 YISHUN ST 71</td>\n",
       "    </tr>\n",
       "    <tr>\n",
       "      <th>875260</th>\n",
       "      <td>2024-06</td>\n",
       "      <td>YISHUN</td>\n",
       "      <td>EXECUTIVE</td>\n",
       "      <td>826</td>\n",
       "      <td>YISHUN ST 81</td>\n",
       "      <td>10 TO 12</td>\n",
       "      <td>146.0</td>\n",
       "      <td>Maisonette</td>\n",
       "      <td>1988</td>\n",
       "      <td>1000000.0</td>\n",
       "      <td>62 years 08 months</td>\n",
       "      <td>826 YISHUN ST 81</td>\n",
       "    </tr>\n",
       "    <tr>\n",
       "      <th>875261</th>\n",
       "      <td>2024-06</td>\n",
       "      <td>YISHUN</td>\n",
       "      <td>EXECUTIVE</td>\n",
       "      <td>826</td>\n",
       "      <td>YISHUN ST 81</td>\n",
       "      <td>04 TO 06</td>\n",
       "      <td>146.0</td>\n",
       "      <td>Maisonette</td>\n",
       "      <td>1988</td>\n",
       "      <td>1000000.0</td>\n",
       "      <td>62 years 08 months</td>\n",
       "      <td>826 YISHUN ST 81</td>\n",
       "    </tr>\n",
       "  </tbody>\n",
       "</table>\n",
       "<p>218415 rows × 12 columns</p>\n",
       "</div>"
      ],
      "text/plain": [
       "          month        town  flat_type block        street_name storey_range  \\\n",
       "656847  2015-01  ANG MO KIO     3 ROOM   174   ANG MO KIO AVE 4     07 TO 09   \n",
       "656848  2015-01  ANG MO KIO     3 ROOM   541  ANG MO KIO AVE 10     01 TO 03   \n",
       "656849  2015-01  ANG MO KIO     3 ROOM   163   ANG MO KIO AVE 4     01 TO 03   \n",
       "656850  2015-01  ANG MO KIO     3 ROOM   446  ANG MO KIO AVE 10     01 TO 03   \n",
       "656851  2015-01  ANG MO KIO     3 ROOM   557  ANG MO KIO AVE 10     07 TO 09   \n",
       "...         ...         ...        ...   ...                ...          ...   \n",
       "875257  2024-06      YISHUN     5 ROOM  502B       YISHUN ST 51     10 TO 12   \n",
       "875258  2024-06      YISHUN     5 ROOM   865       YISHUN ST 81     07 TO 09   \n",
       "875259  2024-06      YISHUN  EXECUTIVE   723       YISHUN ST 71     10 TO 12   \n",
       "875260  2024-06      YISHUN  EXECUTIVE   826       YISHUN ST 81     10 TO 12   \n",
       "875261  2024-06      YISHUN  EXECUTIVE   826       YISHUN ST 81     04 TO 06   \n",
       "\n",
       "        floor_area_sqm      flat_model  lease_commence_date  resale_price  \\\n",
       "656847            60.0        Improved                 1986      255000.0   \n",
       "656848            68.0  New Generation                 1981      275000.0   \n",
       "656849            69.0  New Generation                 1980      285000.0   \n",
       "656850            68.0  New Generation                 1979      290000.0   \n",
       "656851            68.0  New Generation                 1980      290000.0   \n",
       "...                ...             ...                  ...           ...   \n",
       "875257           112.0        Improved                 2018      738000.0   \n",
       "875258           122.0        Improved                 1988      680000.0   \n",
       "875259           146.0      Maisonette                 1986      790000.0   \n",
       "875260           146.0      Maisonette                 1988     1000000.0   \n",
       "875261           146.0      Maisonette                 1988     1000000.0   \n",
       "\n",
       "           remaining_lease                address  \n",
       "656847                  70   174 ANG MO KIO AVE 4  \n",
       "656848                  65  541 ANG MO KIO AVE 10  \n",
       "656849                  64   163 ANG MO KIO AVE 4  \n",
       "656850                  63  446 ANG MO KIO AVE 10  \n",
       "656851                  64  557 ANG MO KIO AVE 10  \n",
       "...                    ...                    ...  \n",
       "875257  92 years 08 months      502B YISHUN ST 51  \n",
       "875258  62 years 10 months       865 YISHUN ST 81  \n",
       "875259            61 years       723 YISHUN ST 71  \n",
       "875260  62 years 08 months       826 YISHUN ST 81  \n",
       "875261  62 years 08 months       826 YISHUN ST 81  \n",
       "\n",
       "[218415 rows x 12 columns]"
      ]
     },
     "execution_count": 10,
     "metadata": {},
     "output_type": "execute_result"
    }
   ],
   "source": [
    "df['address'] = df['block'] + \" \" + df['street_name']\n",
    "df"
   ]
  },
  {
   "cell_type": "code",
   "execution_count": 11,
   "id": "c44f46c3",
   "metadata": {
    "id": "c44f46c3"
   },
   "outputs": [],
   "source": [
    "address_list = df['address'].unique()"
   ]
  },
  {
   "cell_type": "code",
   "execution_count": null,
   "id": "7ff29fe0",
   "metadata": {
    "colab": {
     "base_uri": "https://localhost:8080/"
    },
    "id": "7ff29fe0",
    "outputId": "9b2aba1c-af3e-41cd-d4fd-00cb3a33f897"
   },
   "outputs": [
    {
     "name": "stdout",
     "output_type": "stream",
     "text": [
      "174 ANG MO KIO AVE 4 ,Lat: 1.37509746867904 Long: 103.83761896123\n",
      "541 ANG MO KIO AVE 10 ,Lat: 1.37392239168826 Long: 103.855621371068\n",
      "163 ANG MO KIO AVE 4 ,Lat: 1.37354853919927 Long: 103.838176471398\n",
      "446 ANG MO KIO AVE 10 ,Lat: 1.36776095130953 Long: 103.855357145908\n",
      "557 ANG MO KIO AVE 10 ,Lat: 1.3716257020332 Long: 103.857736107527\n",
      "603 ANG MO KIO AVE 5 ,Lat: 1.38020079047279 Long: 103.83575571651\n",
      "709 ANG MO KIO AVE 8 ,Lat: 1.37113720765377 Long: 103.847662320064\n",
      "333 ANG MO KIO AVE 1 ,Lat: 1.3613425564061 Long: 103.851698621454\n",
      "109 ANG MO KIO AVE 4 ,Lat: 1.3700965375834 Long: 103.837687766047\n",
      "564 ANG MO KIO AVE 3 ,Lat: 1.36984837555524 Long: 103.859404131956\n",
      "218 ANG MO KIO AVE 1 ,Lat: 1.36511908595886 Long: 103.841742478489\n",
      "556 ANG MO KIO AVE 10 ,Lat: 1.37203236308683 Long: 103.857625375797\n",
      "156 ANG MO KIO AVE 4 ,Lat: 1.37549519574964 Long: 103.839947470774\n",
      "471 ANG MO KIO AVE 10 ,Lat: 1.36346600647245 Long: 103.856702918462\n",
      "434 ANG MO KIO AVE 10 ,Lat: 1.3678915069194 Long: 103.85345502653\n",
      "560 ANG MO KIO AVE 10 ,Lat: 1.37081626777721 Long: 103.859192334256\n",
      "332 ANG MO KIO AVE 1 ,Lat: 1.36167030761833 Long: 103.851955453764\n",
      "421 ANG MO KIO AVE 10 ,Lat: 1.36538422642267 Long: 103.852966961527\n",
      "506 ANG MO KIO AVE 8 ,Lat: 1.37440041920745 Long: 103.84893617353\n",
      "631 ANG MO KIO AVE 4 ,Lat: 1.3795572819161 Long: 103.840735651035\n",
      "153 ANG MO KIO AVE 5 ,Lat: 1.37635745661369 Long: 103.842056476563\n"
     ]
    }
   ],
   "source": [
    "latitude = []\n",
    "longitude = []\n",
    "blk_no = []\n",
    "road_name = []\n",
    "postal_code = []\n",
    "address = []\n",
    "count = 0\n",
    "\n",
    "for row in range(len(address_list)):\n",
    "    query_address = address_list[row]\n",
    "    query_string = 'https://www.onemap.gov.sg/api/common/elastic/search?searchVal='+str(query_address)+'&returnGeom=Y&getAddrDetails=Y'\n",
    "    resp = requests.get(query_string)\n",
    "\n",
    "\n",
    "    data_geo_location=json.loads(resp.content)\n",
    "    if data_geo_location['found'] != 0:\n",
    "        latitude.append(data_geo_location['results'][0]['LATITUDE'])\n",
    "        longitude.append(data_geo_location['results'][0]['LONGITUDE'])\n",
    "        blk_no.append(data_geo_location['results'][0]['BLK_NO'])\n",
    "        road_name.append(data_geo_location['results'][0]['ROAD_NAME'])\n",
    "        postal_code.append(data_geo_location['results'][0]['POSTAL'])\n",
    "        address.append(query_address)\n",
    "        print (str(query_address) + \" ,Lat: \" + data_geo_location['results'][0]['LATITUDE'] + \" Long: \" + data_geo_location['results'][0]['LONGITUDE'])\n",
    "    else:\n",
    "        print (\"No Results\")"
   ]
  },
  {
   "cell_type": "code",
   "execution_count": null,
   "id": "9a616cb1",
   "metadata": {
    "colab": {
     "base_uri": "https://localhost:8080/"
    },
    "id": "9a616cb1",
    "outputId": "b2f512ac-3180-4e87-8950-decde3bfd29f"
   },
   "outputs": [],
   "source": [
    "df_coordinates = pd.DataFrame({\n",
    "    'latitude': latitude,\n",
    "    'longitude': longitude,\n",
    "    'blk_no': blk_no,\n",
    "    'road_name': road_name,\n",
    "    'postal_code': postal_code,\n",
    "    'address': address\n",
    "})\n",
    "len(df_coordinates)"
   ]
  },
  {
   "cell_type": "code",
   "execution_count": null,
   "id": "44a15c97",
   "metadata": {
    "id": "44a15c97"
   },
   "outputs": [],
   "source": [
    "list_of_lat = df_coordinates['latitude']\n",
    "list_of_long = df_coordinates['longitude']\n",
    "mrt_lat = mrt_location['latitude']\n",
    "mrt_long = mrt_location['longitude']"
   ]
  },
  {
   "cell_type": "code",
   "execution_count": null,
   "id": "18224311",
   "metadata": {
    "id": "18224311"
   },
   "outputs": [],
   "source": [
    "list_of_coordinates = []\n",
    "list_of_mrt_coordinates = []\n",
    "\n",
    "for lat, long in zip(list_of_lat, list_of_long):\n",
    "    list_of_coordinates.append((lat,long))\n",
    "for lat, long in zip(mrt_lat, mrt_long):\n",
    "    list_of_mrt_coordinates.append((lat, long))"
   ]
  },
  {
   "cell_type": "markdown",
   "id": "_Ii4e2aDYasY",
   "metadata": {
    "id": "_Ii4e2aDYasY"
   },
   "source": [
    "# Getting the diatnce with the help of OpenMap API"
   ]
  },
  {
   "cell_type": "code",
   "execution_count": null,
   "id": "993da041",
   "metadata": {
    "id": "993da041"
   },
   "outputs": [],
   "source": [
    "# Distance to nearest MRT\n",
    "from geopy.distance import geodesic\n",
    "\n",
    "list_of_dist_mrt = []\n",
    "min_dist_mrt = []\n",
    "\n",
    "for origin in list_of_coordinates:\n",
    "    for destination in range(0, len(list_of_mrt_coordinates)):\n",
    "        list_of_dist_mrt.append(geodesic(origin,list_of_mrt_coordinates[destination]).meters)\n",
    "    shortest = (min(list_of_dist_mrt))\n",
    "    min_dist_mrt.append(shortest)\n",
    "    list_of_dist_mrt.clear()"
   ]
  },
  {
   "cell_type": "code",
   "execution_count": null,
   "id": "24098302",
   "metadata": {
    "id": "24098302"
   },
   "outputs": [],
   "source": [
    "# Distance from CDB\n",
    "cbd_dist = []\n",
    "\n",
    "for origin in list_of_coordinates:\n",
    "    cbd_dist.append(geodesic(origin,(1.2830, 103.8513)).meters) #CBD coordinates"
   ]
  },
  {
   "cell_type": "code",
   "execution_count": null,
   "id": "2955b381",
   "metadata": {
    "id": "2955b381"
   },
   "outputs": [],
   "source": [
    "# Put MRT and CBD distance together\n",
    "df_coordinates['cbd_dist'] = cbd_dist\n",
    "df_coordinates['min_dist_mrt'] = min_dist_mrt"
   ]
  },
  {
   "cell_type": "code",
   "execution_count": null,
   "id": "319f98a0",
   "metadata": {
    "colab": {
     "base_uri": "https://localhost:8080/",
     "height": 458
    },
    "id": "319f98a0",
    "outputId": "754123c7-8446-4e98-b1fd-ab63c0fe2d9d"
   },
   "outputs": [],
   "source": [
    "df_coordinates"
   ]
  },
  {
   "cell_type": "code",
   "execution_count": null,
   "id": "02793fcc",
   "metadata": {
    "id": "02793fcc"
   },
   "outputs": [],
   "source": [
    "df_coordinates.to_csv('df_coordinates.csv',index=False)"
   ]
  },
  {
   "cell_type": "code",
   "execution_count": null,
   "id": "8c1b48f0",
   "metadata": {
    "id": "8c1b48f0"
   },
   "outputs": [],
   "source": [
    "df_coordinates = pd.read_csv('df_coordinates.csv')"
   ]
  },
  {
   "cell_type": "code",
   "execution_count": null,
   "id": "fdccb265",
   "metadata": {
    "colab": {
     "base_uri": "https://localhost:8080/",
     "height": 790
    },
    "id": "fdccb265",
    "outputId": "6e253621-6fd5-4dbe-bb39-e4513d578117"
   },
   "outputs": [],
   "source": [
    "df_new = df_coordinates.merge(df, on=\"address\", how='outer')\n",
    "df_new"
   ]
  },
  {
   "cell_type": "code",
   "execution_count": null,
   "id": "a30e95db",
   "metadata": {
    "colab": {
     "base_uri": "https://localhost:8080/",
     "height": 790
    },
    "id": "a30e95db",
    "outputId": "c48b5fd1-b858-411a-beed-afa5fff28977"
   },
   "outputs": [],
   "source": [
    "df_new['resale_price'] = df_new['resale_price'].astype('float')\n",
    "df_new['floor_area_sqm'] = df_new['floor_area_sqm'].astype('float')\n",
    "df_new['lease_commence_date'] = df_new['lease_commence_date'].astype('int64')\n",
    "df_new['lease_remain_years'] = 99 - (2023 - df_new['lease_commence_date'])\n",
    "\n",
    "df_new.dropna(inplace=True)\n",
    "\n",
    "df_new"
   ]
  },
  {
   "cell_type": "markdown",
   "id": "19KcgtXEYkiF",
   "metadata": {
    "id": "19KcgtXEYkiF"
   },
   "source": [
    "# Final Combined Data"
   ]
  },
  {
   "cell_type": "code",
   "execution_count": null,
   "id": "82ee39c0",
   "metadata": {
    "id": "82ee39c0"
   },
   "outputs": [],
   "source": [
    "df_new.to_csv('combined.csv', index = False)"
   ]
  }
 ],
 "metadata": {
  "colab": {
   "provenance": []
  },
  "kernelspec": {
   "display_name": "Python 3 (ipykernel)",
   "language": "python",
   "name": "python3"
  },
  "language_info": {
   "codemirror_mode": {
    "name": "ipython",
    "version": 3
   },
   "file_extension": ".py",
   "mimetype": "text/x-python",
   "name": "python",
   "nbconvert_exporter": "python",
   "pygments_lexer": "ipython3",
   "version": "3.11.4"
  }
 },
 "nbformat": 4,
 "nbformat_minor": 5
}
