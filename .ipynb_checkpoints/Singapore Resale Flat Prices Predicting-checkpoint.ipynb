{
 "cells": [
  {
   "cell_type": "code",
   "execution_count": 1,
   "id": "1e1e77d2",
   "metadata": {},
   "outputs": [],
   "source": [
    "import glob\n",
    "import pandas as pd\n",
    "import json\n",
    "import requests\n",
    "import matplotlib.pyplot as plt\n",
    "import math"
   ]
  },
  {
   "cell_type": "markdown",
   "id": "306f59c2",
   "metadata": {},
   "source": [
    "# 1. Importing and loading the dataset:"
   ]
  },
  {
   "cell_type": "code",
   "execution_count": null,
   "id": "2e76af3f",
   "metadata": {
    "scrolled": false
   },
   "outputs": [],
   "source": [
    "prices1999 = pd.read_csv(\"./data/ResaleFlatPricesBasedonApprovalDate19901999.csv\")\n",
    "prices2012 = pd.read_csv(\"./data/ResaleFlatPricesBasedonApprovalDate2000Feb2012.csv\")\n",
    "prices2014 = pd.read_csv(\"./data/ResaleFlatPricesBasedonRegistrationDateFromMar2012toDec2014.csv\")\n",
    "prices2016 = pd.read_csv(\"./data/ResaleFlatPricesBasedonRegistrationDateFromJan2015toDec2016.csv\")\n",
    "prices2017 = pd.read_csv(\"./data/ResaleflatpricesbasedonregistrationdatefromJan2017onwards.csv\")"
   ]
  },
  {
   "cell_type": "code",
   "execution_count": null,
   "id": "b08dd04b",
   "metadata": {},
   "outputs": [],
   "source": [
    "prices1999"
   ]
  },
  {
   "cell_type": "code",
   "execution_count": null,
   "id": "f6d237e6",
   "metadata": {},
   "outputs": [],
   "source": [
    "prices2012"
   ]
  },
  {
   "cell_type": "code",
   "execution_count": null,
   "id": "42dd1737",
   "metadata": {},
   "outputs": [],
   "source": [
    "prices2014"
   ]
  },
  {
   "cell_type": "code",
   "execution_count": null,
   "id": "93571726",
   "metadata": {},
   "outputs": [],
   "source": [
    "prices2016"
   ]
  },
  {
   "cell_type": "code",
   "execution_count": null,
   "id": "75660cec",
   "metadata": {},
   "outputs": [],
   "source": [
    "prices2017"
   ]
  },
  {
   "cell_type": "code",
   "execution_count": null,
   "id": "4c4fe220",
   "metadata": {},
   "outputs": [],
   "source": [
    "# merging dfs\n",
    "prices = pd.concat([prices1999, prices2012, prices2014], sort=False)\n",
    "prices = pd.concat([prices, prices2016, prices2017], axis=0, ignore_index=True, sort=False)\n",
    "\n",
    "#coverting the dtype of 'months' to datetime\n",
    "prices['month'] = pd.to_datetime(prices['month'])\n",
    "prices['current_year'] = prices['month'].dt.year\n",
    "prices['current_month'] = prices['month'].dt.month\n",
    "prices = prices.astype({'current_year': int, 'current_month': int})\n",
    "prices.drop(columns=['month'], inplace=True)\n",
    "prices"
   ]
  },
  {
   "cell_type": "code",
   "execution_count": null,
   "id": "cf5ed659",
   "metadata": {},
   "outputs": [],
   "source": [
    "prices"
   ]
  },
  {
   "cell_type": "markdown",
   "id": "6642248a",
   "metadata": {},
   "source": [
    "#### Checking which year have null values among the records"
   ]
  },
  {
   "cell_type": "code",
   "execution_count": null,
   "id": "18f460fe",
   "metadata": {},
   "outputs": [],
   "source": [
    "prices[~prices.isnull().any(axis=1)]['current_year'].unique()"
   ]
  },
  {
   "cell_type": "markdown",
   "id": "280bd5bd",
   "metadata": {},
   "source": [
    "**'lease_remaining' have alot of NAs. They are only available after 2015 sales onwards**"
   ]
  },
  {
   "cell_type": "markdown",
   "id": "29082729",
   "metadata": {},
   "source": [
    "# 2. Data Preprocessing"
   ]
  },
  {
   "cell_type": "code",
   "execution_count": null,
   "id": "333cd253",
   "metadata": {},
   "outputs": [],
   "source": [
    "# cleaning 'flat_type'\n",
    "prices['flat_type'] = prices['flat_type'].str.replace('MULTI-GENERATION', 'MULTI GENERATION')\n",
    "prices['flat_type'].unique()"
   ]
  },
  {
   "cell_type": "code",
   "execution_count": null,
   "id": "c752791e",
   "metadata": {},
   "outputs": [],
   "source": [
    "# Renaming the duplicate 'flat_model'\n",
    "prices['flat_model'].unique()"
   ]
  },
  {
   "cell_type": "code",
   "execution_count": null,
   "id": "71c1ae77",
   "metadata": {},
   "outputs": [],
   "source": [
    "replace_values = {\n",
    "    'NEW GENERATION':'New Generation',\n",
    "    'SIMPLIFIED':'Simplified',\n",
    "    'STANDARD':'Standard',\n",
    "    'MODEL A-MAISONETTE': 'Maisonette',\n",
    "    'MULIT GENERATION':'Multi Generation',\n",
    "    'IMPROVED-MAISONETTE': 'Executive Maisonette',\n",
    "    'Improved-Maisonette': 'Executive Maisonette',\n",
    "    'Premium Maisonette': 'Executive Maisonette',\n",
    "    '2-Room': '2-room',\n",
    "    'MODEL A': 'Model A',\n",
    "    'MAISONETTE': 'Maisonette',\n",
    "    'Model A-Maisonette': 'Maisonette',\n",
    "    'IMPROVED': 'Improved',\n",
    "    'TERRACE':'Terrace',\n",
    "    'PREMIUM APARTMENT': 'Premium Apartment',\n",
    "    'Premium Apartment Loft':'Premium APartment',\n",
    "    'APARTMENT': 'Apartment',\n",
    "    'Type S1': 'TypeS1S2',\n",
    "    'Type S2': 'TypeS1S2'\n",
    "}\n",
    "prices = prices.replace({'flat_model':replace_values})\n",
    "prices['flat_model'].unique()"
   ]
  },
  {
   "cell_type": "code",
   "execution_count": null,
   "id": "25e8d813",
   "metadata": {},
   "outputs": [],
   "source": [
    "prices['flat_model'].value_counts()"
   ]
  },
  {
   "cell_type": "code",
   "execution_count": null,
   "id": "f6d218fe",
   "metadata": {},
   "outputs": [],
   "source": [
    "prices['storey_range'].unique()"
   ]
  },
  {
   "cell_type": "code",
   "execution_count": null,
   "id": "4f2d7183",
   "metadata": {},
   "outputs": [],
   "source": [
    "prices['town'].unique()"
   ]
  },
  {
   "cell_type": "markdown",
   "id": "7f12b7aa",
   "metadata": {},
   "source": [
    "#### Checking distribution of HBD Floor Area:"
   ]
  },
  {
   "cell_type": "code",
   "execution_count": null,
   "id": "8032cb84",
   "metadata": {},
   "outputs": [],
   "source": [
    "plt.hist(prices['floor_area_sqm'], bins=50, edgecolor='black')\n",
    "plt.title('Ditribution of HBD Floor Area')\n",
    "plt.show()\n",
    "display(prices[prices['floor_area_sqm'] > 200]['flat_model'].value_counts())"
   ]
  },
  {
   "cell_type": "markdown",
   "id": "ec7f9f37",
   "metadata": {},
   "source": [
    "#### Checking distribution of Lease commense year:"
   ]
  },
  {
   "cell_type": "code",
   "execution_count": null,
   "id": "b316fb72",
   "metadata": {},
   "outputs": [],
   "source": [
    "bins = prices['lease_commence_date'].max() - prices['lease_commence_date'].min()\n",
    "plt.hist(prices['lease_commence_date'], bins = bins, edgecolor='black')\n",
    "plt.show()"
   ]
  },
  {
   "cell_type": "code",
   "execution_count": null,
   "id": "961fc895",
   "metadata": {},
   "outputs": [],
   "source": [
    "prices.dtypes"
   ]
  },
  {
   "cell_type": "markdown",
   "id": "0e04af2d",
   "metadata": {},
   "source": [
    "#### Converting 'remaining_lease' to numbers of year:"
   ]
  },
  {
   "cell_type": "code",
   "execution_count": null,
   "id": "65203f35",
   "metadata": {},
   "outputs": [],
   "source": [
    "def get_lease_year(text):\n",
    "    if isinstance(text, str):\n",
    "        yearmonth = [int(x) for x in text.split() if x.isdigit()]\n",
    "        if len(yearmonth) > 1: #if there's year and month value\n",
    "            years = yearmonth[0] + yearmonth[1]/12\n",
    "        else: #if only year\n",
    "            years = yearmonth[0]\n",
    "        return years\n",
    "    else: #if the value is not string\n",
    "        return text\n",
    "prices['remaining_lease'] = prices['remaining_lease'].apply(lambda x: get_lease_year(x))\n",
    "prices"
   ]
  },
  {
   "cell_type": "markdown",
   "id": "6883a02f",
   "metadata": {},
   "source": [
    "### Using MRT(Mass Rapid Transit System) Railway Transportation data \n",
    "* Getting MRT coordinates for each city, so that we can calculate the distance afterwards using MRT coordinates"
   ]
  },
  {
   "cell_type": "code",
   "execution_count": null,
   "id": "fb69614a",
   "metadata": {},
   "outputs": [],
   "source": [
    "df['town'].unique()"
   ]
  }
 ],
 "metadata": {
  "kernelspec": {
   "display_name": "Python 3 (ipykernel)",
   "language": "python",
   "name": "python3"
  },
  "language_info": {
   "codemirror_mode": {
    "name": "ipython",
    "version": 3
   },
   "file_extension": ".py",
   "mimetype": "text/x-python",
   "name": "python",
   "nbconvert_exporter": "python",
   "pygments_lexer": "ipython3",
   "version": "3.11.4"
  }
 },
 "nbformat": 4,
 "nbformat_minor": 5
}
